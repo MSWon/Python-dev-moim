{
 "cells": [
  {
   "cell_type": "code",
   "execution_count": 1,
   "metadata": {},
   "outputs": [],
   "source": [
    "from gensim.models import Word2Vec"
   ]
  },
  {
   "cell_type": "code",
   "execution_count": 2,
   "metadata": {},
   "outputs": [],
   "source": [
    "model = Word2Vec.load(\"Word2vec.model\")"
   ]
  },
  {
   "cell_type": "code",
   "execution_count": 4,
   "metadata": {},
   "outputs": [
    {
     "data": {
      "text/plain": [
       "[('공포영화/Noun', 0.7282249927520752),\n",
       " ('스릴러/Noun', 0.6975116729736328),\n",
       " ('호러/Noun', 0.5601893663406372),\n",
       " ('코미디/Noun', 0.5569531917572021),\n",
       " ('장르/Noun', 0.5537860989570618),\n",
       " ('무섭다/Adjective', 0.5490701198577881),\n",
       " ('미스터리/Noun', 0.5310870409011841),\n",
       " ('멜로/Noun', 0.5070638656616211),\n",
       " ('스릴/Noun', 0.49662744998931885),\n",
       " ('긴장감/Noun', 0.49549219012260437),\n",
       " ('공포물/Noun', 0.48904934525489807),\n",
       " ('재난/Noun', 0.4719172418117523),\n",
       " ('슬래셔/Noun', 0.46742910146713257),\n",
       " ('귀신/Noun', 0.46346795558929443),\n",
       " ('무서움/Noun', 0.4634285569190979),\n",
       " ('판타지/Noun', 0.45379894971847534),\n",
       " ('분위기/Noun', 0.45113837718963623),\n",
       " ('sf/Alpha', 0.4486241638660431),\n",
       " ('쥐똥/Noun', 0.4463057219982147),\n",
       " ('재난영화/Noun', 0.44559246301651)]"
      ]
     },
     "execution_count": 4,
     "metadata": {},
     "output_type": "execute_result"
    }
   ],
   "source": [
    "model.wv.most_similar('공포/Noun', topn=20)"
   ]
  },
  {
   "cell_type": "code",
   "execution_count": 5,
   "metadata": {},
   "outputs": [
    {
     "data": {
      "text/plain": [
       "[('한석규/Noun', 0.4873364567756653),\n",
       " ('정재영/Noun', 0.472476601600647),\n",
       " ('이성민/Noun', 0.4571453630924225),\n",
       " ('전말/Noun', 0.4465402662754059),\n",
       " ('김갑수/Noun', 0.4438572824001312),\n",
       " ('이준기/Noun', 0.43829506635665894),\n",
       " ('유동근/Noun', 0.43711787462234497),\n",
       " ('이순신/Noun', 0.42796677350997925),\n",
       " ('이재용/Noun', 0.42366135120391846),\n",
       " ('노희경/Noun', 0.4234658181667328),\n",
       " ('남지현/Noun', 0.42150622606277466),\n",
       " ('티모시/Noun', 0.4198136329650879),\n",
       " ('장예모/Noun', 0.4118649959564209),\n",
       " ('문소리/Noun', 0.41095295548439026),\n",
       " ('정려원/Noun', 0.4093013107776642),\n",
       " ('이창동/Noun', 0.4082988500595093),\n",
       " ('뉴하트/Noun', 0.40751445293426514),\n",
       " ('서영희/Noun', 0.4073735773563385),\n",
       " ('김희애/Noun', 0.4035971164703369),\n",
       " ('이주승/Noun', 0.40332889556884766)]"
      ]
     },
     "execution_count": 5,
     "metadata": {},
     "output_type": "execute_result"
    }
   ],
   "source": [
    "model.wv.most_similar('최민식/Noun', topn=20)"
   ]
  },
  {
   "cell_type": "code",
   "execution_count": 6,
   "metadata": {},
   "outputs": [
    {
     "data": {
      "text/plain": [
       "[('코미디/Noun', 0.6603553295135498),\n",
       " ('멜로/Noun', 0.6061386466026306),\n",
       " ('느와르/Noun', 0.5309450626373291),\n",
       " ('로맨틱/Noun', 0.5309394001960754),\n",
       " ('로맨스/Noun', 0.5244097709655762),\n",
       " ('스릴러/Noun', 0.517432689666748),\n",
       " ('괴기/Noun', 0.5161058306694031),\n",
       " ('호러/Noun', 0.5082025527954102),\n",
       " ('첨가/Noun', 0.5072762966156006),\n",
       " ('웃기다/Verb', 0.5070399641990662),\n",
       " ('로맨틱코미디/Noun', 0.4969070553779602),\n",
       " ('액션/Noun', 0.4916801452636719),\n",
       " ('간간이/Noun', 0.4906829595565796),\n",
       " ('패러디/Noun', 0.4865299463272095),\n",
       " ('개그/Noun', 0.4836331903934479),\n",
       " ('요소/Noun', 0.48156213760375977),\n",
       " ('배합/Noun', 0.47033870220184326),\n",
       " ('로멘/Noun', 0.4676569700241089),\n",
       " ('버디무비/Noun', 0.46272414922714233),\n",
       " ('리즈중/Noun', 0.4583579897880554)]"
      ]
     },
     "execution_count": 6,
     "metadata": {},
     "output_type": "execute_result"
    }
   ],
   "source": [
    "model.wv.most_similar('코믹/Noun', topn=20)"
   ]
  },
  {
   "cell_type": "code",
   "execution_count": null,
   "metadata": {},
   "outputs": [],
   "source": []
  }
 ],
 "metadata": {
  "kernelspec": {
   "display_name": "Python 3",
   "language": "python",
   "name": "python3"
  },
  "language_info": {
   "codemirror_mode": {
    "name": "ipython",
    "version": 3
   },
   "file_extension": ".py",
   "mimetype": "text/x-python",
   "name": "python",
   "nbconvert_exporter": "python",
   "pygments_lexer": "ipython3",
   "version": "3.6.10"
  }
 },
 "nbformat": 4,
 "nbformat_minor": 4
}
