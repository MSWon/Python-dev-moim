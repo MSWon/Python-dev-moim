{
 "cells": [
  {
   "cell_type": "code",
   "execution_count": 1,
   "metadata": {},
   "outputs": [],
   "source": [
    "import tensorflow as tf\n",
    "\n",
    "_buffer_size = 20000\n",
    "_thread_num = 16\n",
    "\n",
    "\n",
    "def get_vocab(vocab_path, isTF=True):\n",
    "    if isTF:\n",
    "        vocab_path_tensor = tf.constant(vocab_path)\n",
    "        tf.add_to_collection(tf.GraphKeys.ASSET_FILEPATHS, vocab_path_tensor)\n",
    "        vocab_dict = tf.contrib.lookup.index_table_from_file(\n",
    "            vocabulary_file=vocab_path_tensor,\n",
    "            num_oov_buckets=0,\n",
    "            default_value=1)\n",
    "    else:\n",
    "        vocab_dict = {}\n",
    "        with open(vocab_path, \"r\") as f:\n",
    "            for vocab in f:\n",
    "                vocab_dict[len(vocab_dict)] = vocab.strip()\n",
    "    return vocab_dict"
   ]
  },
  {
   "cell_type": "code",
   "execution_count": 2,
   "metadata": {},
   "outputs": [],
   "source": [
    "corpus_path = \"data/ratings_train.cleaned.txt\"\n",
    "vocab_path = \"Word2vec.vocab\"\n",
    "max_len = 100\n",
    "batch_size = 4"
   ]
  },
  {
   "cell_type": "code",
   "execution_count": 4,
   "metadata": {},
   "outputs": [],
   "source": [
    "tf_vocab = get_vocab(vocab_path)\n",
    "dataset = tf.data.TextLineDataset(corpus_path)\n",
    "\n",
    "dataset = dataset.apply(tf.data.experimental.shuffle_and_repeat(_buffer_size))\n",
    "\n",
    "dataset = dataset.map(lambda x: tf.string_split([x], delimiter=\"\\t\").values)\n",
    "\n",
    "dataset = dataset.map(lambda x: {\n",
    "                        \"input\": tf.string_split([x[0]]).values,\n",
    "                        \"label\": tf.string_split([x[1]]).values\n",
    "                    },\n",
    "                    num_parallel_calls=_thread_num\n",
    "                    )\n",
    "\n",
    "# Truncate to max_len\n",
    "dataset = dataset.map(lambda x:\n",
    "            tf.cond(tf.greater(tf.shape(x[\"input\"])[0], max_len),\n",
    "                    lambda: {\n",
    "                        \"input\": x[\"input\"][:max_len],\n",
    "                        \"label\": x[\"label\"]\n",
    "                    },\n",
    "                    lambda: {\n",
    "                        \"input\": x[\"input\"],\n",
    "                        \"label\": x[\"label\"]\n",
    "                    }\n",
    "                )\n",
    "            )\n",
    "\n",
    "dataset = dataset.map(lambda x: {\n",
    "                        \"input\": tf_vocab.lookup(x[\"input\"]),\n",
    "                        \"label\": x[\"label\"]\n",
    "                    },\n",
    "                    num_parallel_calls=_thread_num\n",
    "                    )\n",
    "\n",
    "dataset = dataset.map(lambda x: {\n",
    "                        \"input\": tf.to_int32(x[\"input\"]),\n",
    "                        \"len\": tf.shape(x[\"input\"])[0],\n",
    "                        \"label\": tf.strings.to_number(x[\"label\"][0], tf.int32)\n",
    "                    },\n",
    "                        num_parallel_calls=_thread_num\n",
    "                    )\n",
    "\n",
    "dataset = dataset.padded_batch(\n",
    "  batch_size,\n",
    "  {\n",
    "      \"input\": [tf.Dimension(max_len)],\n",
    "      \"len\": [],\n",
    "      \"label\": []\n",
    "  },\n",
    "  {\n",
    "      \"input\": 0,\n",
    "      \"len\": 0,\n",
    "      \"label\": 0\n",
    "  }\n",
    ")\n",
    "\n",
    "dataset = dataset.prefetch(3)"
   ]
  },
  {
   "cell_type": "code",
   "execution_count": 5,
   "metadata": {},
   "outputs": [],
   "source": [
    "iters = tf.data.Iterator.from_structure(dataset.output_types,\n",
    "                                        dataset.output_shapes)\n",
    "features = iters.get_next()\n",
    "\n",
    "\n",
    "# create the initialisation operations\n",
    "init_op = iters.make_initializer(dataset)"
   ]
  },
  {
   "cell_type": "code",
   "execution_count": 6,
   "metadata": {},
   "outputs": [],
   "source": [
    "sess = tf.Session()"
   ]
  },
  {
   "cell_type": "code",
   "execution_count": 7,
   "metadata": {},
   "outputs": [],
   "source": [
    "sess.run(init_op)\n",
    "sess.run(tf.tables_initializer())"
   ]
  },
  {
   "cell_type": "code",
   "execution_count": 8,
   "metadata": {},
   "outputs": [
    {
     "data": {
      "text/plain": [
       "{'input': array([[  294,    26,    20,     4,    76,   115,     0,     0,     0,\n",
       "             0,     0,     0,     0,     0,     0,     0,     0,     0,\n",
       "             0,     0,     0,     0,     0,     0,     0,     0,     0,\n",
       "             0,     0,     0,     0,     0,     0,     0,     0,     0,\n",
       "             0,     0,     0,     0,     0,     0,     0,     0,     0,\n",
       "             0,     0,     0,     0,     0,     0,     0,     0,     0,\n",
       "             0,     0,     0,     0,     0,     0,     0,     0,     0,\n",
       "             0,     0,     0,     0,     0,     0,     0,     0,     0,\n",
       "             0,     0,     0,     0,     0,     0,     0,     0,     0,\n",
       "             0,     0,     0,     0,     0,     0,     0,     0,     0,\n",
       "             0,     0,     0,     0,     0,     0,     0,     0,     0,\n",
       "             0],\n",
       "        [  511,   493,    91,     1,     4,   462,   292,    29,    49,\n",
       "            17,   377,    58,     3,  3563,  1292,  1693,    96,    58,\n",
       "            13,  3697,     2,   442,    39,    29,     0,   511,  2930,\n",
       "           467,  1594,  7138,    36,   134,  7122,    77,   229,  2843,\n",
       "            11,    22,    25,    12,  3800,     7,    64,    22,    70,\n",
       "           108,  3800,    36,    78,  2329,     8,  8971,  1900,    65,\n",
       "          1168,     0,     0,     0,     0,     0,     0,     0,     0,\n",
       "             0,     0,     0,     0,     0,     0,     0,     0,     0,\n",
       "             0,     0,     0,     0,     0,     0,     0,     0,     0,\n",
       "             0,     0,     0,     0,     0,     0,     0,     0,     0,\n",
       "             0,     0,     0,     0,     0,     0,     0,     0,     0,\n",
       "             0],\n",
       "        [   32,     1,    15,    78,    91,    11,    34, 14018,   205,\n",
       "            60,     0,     0,     0,     0,     0,     0,     0,     0,\n",
       "             0,     0,     0,     0,     0,     0,     0,     0,     0,\n",
       "             0,     0,     0,     0,     0,     0,     0,     0,     0,\n",
       "             0,     0,     0,     0,     0,     0,     0,     0,     0,\n",
       "             0,     0,     0,     0,     0,     0,     0,     0,     0,\n",
       "             0,     0,     0,     0,     0,     0,     0,     0,     0,\n",
       "             0,     0,     0,     0,     0,     0,     0,     0,     0,\n",
       "             0,     0,     0,     0,     0,     0,     0,     0,     0,\n",
       "             0,     0,     0,     0,     0,     0,     0,     0,     0,\n",
       "             0,     0,     0,     0,     0,     0,     0,     0,     0,\n",
       "             0],\n",
       "        [   22,    70,   643,   311,    33,  1766,    93,    70,   730,\n",
       "            21,    79,     2,   547,    33,    12,    26,   267,     1,\n",
       "           128,    10,    49,    11,    23,    14,    69,    13,    40,\n",
       "            11,   240,    14,   278,    11,   107,   107,   190,     3,\n",
       "            94,   308,   367,    30,  1263,   184,    11,    19,    50,\n",
       "           258,   307,     0,     0,     0,     0,     0,     0,     0,\n",
       "             0,     0,     0,     0,     0,     0,     0,     0,     0,\n",
       "             0,     0,     0,     0,     0,     0,     0,     0,     0,\n",
       "             0,     0,     0,     0,     0,     0,     0,     0,     0,\n",
       "             0,     0,     0,     0,     0,     0,     0,     0,     0,\n",
       "             0,     0,     0,     0,     0,     0,     0,     0,     0,\n",
       "             0]], dtype=int32),\n",
       " 'len': array([ 6, 55, 10, 47], dtype=int32),\n",
       " 'label': array([1, 0, 0, 1], dtype=int32)}"
      ]
     },
     "execution_count": 8,
     "metadata": {},
     "output_type": "execute_result"
    }
   ],
   "source": [
    "sess.run(features)"
   ]
  },
  {
   "cell_type": "code",
   "execution_count": 9,
   "metadata": {},
   "outputs": [
    {
     "data": {
      "text/plain": [
       "{'input': array([[  22,   25,   12,   74,  253,   21, 2438,  253,   21,  720,    0,\n",
       "            0,    0,    0,    0,    0,    0,    0,    0,    0,    0,    0,\n",
       "            0,    0,    0,    0,    0,    0,    0,    0,    0,    0,    0,\n",
       "            0,    0,    0,    0,    0,    0,    0,    0,    0,    0,    0,\n",
       "            0,    0,    0,    0,    0,    0,    0,    0,    0,    0,    0,\n",
       "            0,    0,    0,    0,    0,    0,    0,    0,    0,    0,    0,\n",
       "            0,    0,    0,    0,    0,    0,    0,    0,    0,    0,    0,\n",
       "            0,    0,    0,    0,    0,    0,    0,    0,    0,    0,    0,\n",
       "            0,    0,    0,    0,    0,    0,    0,    0,    0,    0,    0,\n",
       "            0],\n",
       "        [  44,   14,   24,  496,  356,    0,    0,    0,    0,    0,    0,\n",
       "            0,    0,    0,    0,    0,    0,    0,    0,    0,    0,    0,\n",
       "            0,    0,    0,    0,    0,    0,    0,    0,    0,    0,    0,\n",
       "            0,    0,    0,    0,    0,    0,    0,    0,    0,    0,    0,\n",
       "            0,    0,    0,    0,    0,    0,    0,    0,    0,    0,    0,\n",
       "            0,    0,    0,    0,    0,    0,    0,    0,    0,    0,    0,\n",
       "            0,    0,    0,    0,    0,    0,    0,    0,    0,    0,    0,\n",
       "            0,    0,    0,    0,    0,    0,    0,    0,    0,    0,    0,\n",
       "            0,    0,    0,    0,    0,    0,    0,    0,    0,    0,    0,\n",
       "            0],\n",
       "        [ 394,    0,    0,    0,    0,    0,    0,    0,    0,    0,    0,\n",
       "            0,    0,    0,    0,    0,    0,    0,    0,    0,    0,    0,\n",
       "            0,    0,    0,    0,    0,    0,    0,    0,    0,    0,    0,\n",
       "            0,    0,    0,    0,    0,    0,    0,    0,    0,    0,    0,\n",
       "            0,    0,    0,    0,    0,    0,    0,    0,    0,    0,    0,\n",
       "            0,    0,    0,    0,    0,    0,    0,    0,    0,    0,    0,\n",
       "            0,    0,    0,    0,    0,    0,    0,    0,    0,    0,    0,\n",
       "            0,    0,    0,    0,    0,    0,    0,    0,    0,    0,    0,\n",
       "            0,    0,    0,    0,    0,    0,    0,    0,    0,    0,    0,\n",
       "            0],\n",
       "        [ 241,   15,  149,   78,  256,  807,   31,    4,  142, 2192, 1405,\n",
       "          285,   16,   10,  160,  327,    0,    0,    0,    0,    0,    0,\n",
       "            0,    0,    0,    0,    0,    0,    0,    0,    0,    0,    0,\n",
       "            0,    0,    0,    0,    0,    0,    0,    0,    0,    0,    0,\n",
       "            0,    0,    0,    0,    0,    0,    0,    0,    0,    0,    0,\n",
       "            0,    0,    0,    0,    0,    0,    0,    0,    0,    0,    0,\n",
       "            0,    0,    0,    0,    0,    0,    0,    0,    0,    0,    0,\n",
       "            0,    0,    0,    0,    0,    0,    0,    0,    0,    0,    0,\n",
       "            0,    0,    0,    0,    0,    0,    0,    0,    0,    0,    0,\n",
       "            0]], dtype=int32),\n",
       " 'len': array([10,  5,  1, 16], dtype=int32),\n",
       " 'label': array([0, 1, 0, 0], dtype=int32)}"
      ]
     },
     "execution_count": 9,
     "metadata": {},
     "output_type": "execute_result"
    }
   ],
   "source": [
    "sess.run(features)"
   ]
  }
 ],
 "metadata": {
  "kernelspec": {
   "display_name": "Python 3",
   "language": "python",
   "name": "python3"
  },
  "language_info": {
   "codemirror_mode": {
    "name": "ipython",
    "version": 3
   },
   "file_extension": ".py",
   "mimetype": "text/x-python",
   "name": "python",
   "nbconvert_exporter": "python",
   "pygments_lexer": "ipython3",
   "version": "3.6.10"
  }
 },
 "nbformat": 4,
 "nbformat_minor": 4
}
